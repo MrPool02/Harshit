{
  "nbformat": 4,
  "nbformat_minor": 0,
  "metadata": {
    "colab": {
      "provenance": [],
      "include_colab_link": true
    },
    "kernelspec": {
      "name": "python3",
      "display_name": "Python 3"
    },
    "language_info": {
      "name": "python"
    }
  },
  "cells": [
    {
      "cell_type": "markdown",
      "metadata": {
        "id": "view-in-github",
        "colab_type": "text"
      },
      "source": [
        "<a href=\"https://colab.research.google.com/github/MrPool02/Harshit/blob/main/HarshitVermaDAY1.ipynb\" target=\"_parent\"><img src=\"https://colab.research.google.com/assets/colab-badge.svg\" alt=\"Open In Colab\"/></a>"
      ]
    },
    {
      "cell_type": "code",
      "source": [],
      "metadata": {
        "id": "TX5V12g4nUvo"
      },
      "execution_count": null,
      "outputs": []
    },
    {
      "cell_type": "markdown",
      "source": [
        "1. Python Program to Print Hello World!\n"
      ],
      "metadata": {
        "id": "mHBOtVOdnzkE"
      }
    },
    {
      "cell_type": "code",
      "source": [
        "print(\"Hello World\")"
      ],
      "metadata": {
        "colab": {
          "base_uri": "https://localhost:8080/"
        },
        "id": "-MA7TZqXk9rE",
        "outputId": "cd7b174b-b3e2-41ea-ee7c-436c78caad45"
      },
      "execution_count": null,
      "outputs": [
        {
          "output_type": "stream",
          "name": "stdout",
          "text": [
            "Hello World\n"
          ]
        }
      ]
    },
    {
      "cell_type": "markdown",
      "source": [
        "2. Write a program for the addition of Two Numbers."
      ],
      "metadata": {
        "id": "chz1PAMfn-48"
      }
    },
    {
      "cell_type": "code",
      "source": [
        "a=int(input(\"enter a number\"))\n",
        "b=int(input(\"enter a number\"))\n",
        "c=a+b\n",
        "print(c)"
      ],
      "metadata": {
        "colab": {
          "base_uri": "https://localhost:8080/"
        },
        "id": "yq45VV3Rl9sz",
        "outputId": "2f206021-639b-4740-e377-93889a35ca59"
      },
      "execution_count": null,
      "outputs": [
        {
          "output_type": "stream",
          "name": "stdout",
          "text": [
            "enter a number12\n",
            "enter a number13\n",
            "25\n"
          ]
        }
      ]
    },
    {
      "cell_type": "markdown",
      "source": [
        "3. Write a program to Read Two Numbers and Print Their Quotient and Remainder."
      ],
      "metadata": {
        "id": "-ogN8bx2odsj"
      }
    },
    {
      "cell_type": "code",
      "source": [
        "a=int(input(\"enter a number\"))\n",
        "b=int(input(\"enter a number\"))\n",
        "l=a%b\n",
        "j=a/b\n",
        "print(\"remainder of the entries is:\",l)\n",
        "print(\"quotient of the entries is:\",j)"
      ],
      "metadata": {
        "colab": {
          "base_uri": "https://localhost:8080/"
        },
        "id": "jsz1FkfFmrf6",
        "outputId": "13991ecc-d3d1-4ba5-d4bf-c2ad989e796b"
      },
      "execution_count": null,
      "outputs": [
        {
          "output_type": "stream",
          "name": "stdout",
          "text": [
            "enter a number17\n",
            "enter a number4\n",
            "remainder of the entries is: 1\n",
            "quotient of the entries is: 4.25\n"
          ]
        }
      ]
    },
    {
      "cell_type": "markdown",
      "source": [
        "4. Write a program to Find the Average of Three Numbers."
      ],
      "metadata": {
        "id": "V1oEcSllpcEr"
      }
    },
    {
      "cell_type": "code",
      "source": [
        "a=int(input(\"enter a number\"))\n",
        "b=int(input(\"enter a number\"))\n",
        "c=int(input(\"enter a number\"))\n",
        "d=(a+b+c)/3\n",
        "print(\"average\",d1)"
      ],
      "metadata": {
        "colab": {
          "base_uri": "https://localhost:8080/"
        },
        "id": "ND3yJIhppX-q",
        "outputId": "437d0585-92e9-47e5-fd0e-e6da66ff7840"
      },
      "execution_count": null,
      "outputs": [
        {
          "output_type": "stream",
          "name": "stdout",
          "text": [
            "enter a number7\n",
            "enter a number8\n",
            "enter a number10\n",
            "average 8.333333333333334\n"
          ]
        }
      ]
    },
    {
      "cell_type": "markdown",
      "source": [
        "5. Write a program to Calculate Sum of 5 Subjects and Find Percentage (Max Mark in each subject is 100)."
      ],
      "metadata": {
        "id": "J8S5Iea8qUha"
      }
    },
    {
      "cell_type": "code",
      "source": [
        "a=int(input(\"enter the marks in subject 1\"))\n",
        "b=int(input(\"enter the marks in subject 2\"))\n",
        "c=int(input(\"enter the marks in subject 3\"))\n",
        "d=int(input(\"enter the marks in subject 4\"))\n",
        "e=int(input(\"enter the marks in subject 5\"))\n",
        "g=a+b+c+d+e\n",
        "percentage=(g*100)/500\n",
        "print(\"percentage\",percentage)"
      ],
      "metadata": {
        "colab": {
          "base_uri": "https://localhost:8080/"
        },
        "id": "wUagiBPUqwUi",
        "outputId": "d6da1780-7789-473e-ef58-e60ef663088a"
      },
      "execution_count": null,
      "outputs": [
        {
          "output_type": "stream",
          "name": "stdout",
          "text": [
            "enter the marks in subject 198\n",
            "enter the marks in subject 297\n",
            "enter the marks in subject 396\n",
            "enter the marks in subject 495\n",
            "enter the marks in subject 591\n",
            "percentage 95.4\n"
          ]
        }
      ]
    },
    {
      "cell_type": "markdown",
      "source": [
        "6. Write a program to find gross salary."
      ],
      "metadata": {
        "id": "-dvY2JYJsbar"
      }
    },
    {
      "cell_type": "code",
      "source": [
        "basic=int(input(\"enter basic salary:\"))\n",
        "hra=int(input(\"enter human resource allowances:\"))\n",
        "da=int(input(\"enter derness allowances:\"))\n",
        "hra=(hra/100)*basic\n",
        "print(hra)\n",
        "da=(da/100)*basic\n",
        "print(da)\n",
        "grosssalary=basic+hra+da\n",
        "print(\"gross salary=\",grosssalary)"
      ],
      "metadata": {
        "colab": {
          "base_uri": "https://localhost:8080/"
        },
        "id": "mn8jCNQSsuyD",
        "outputId": "3397fb9c-2c5f-46c6-f31f-636577ce9b52"
      },
      "execution_count": null,
      "outputs": [
        {
          "output_type": "stream",
          "name": "stdout",
          "text": [
            "enter basic salary100000\n",
            "enter human resource allowances10000\n",
            "enter derness allowances1000\n",
            "10000000.0\n",
            "1000000.0\n",
            "gross salary 11100000.0\n"
          ]
        }
      ]
    },
    {
      "cell_type": "code",
      "source": [
        "7. Write a program to Calculate Area of Rectangle, Square."
      ],
      "metadata": {
        "id": "a-v5x0q2tv8a"
      },
      "execution_count": null,
      "outputs": []
    },
    {
      "cell_type": "code",
      "source": [
        "g=int(input(\"to calculate the area to rectangle enter 1 and for square 0:\"))\n",
        "if(g==1):\n",
        "  l=int(input(\"enter the lenghth:\"))\n",
        "  b=int(input(\"enter the breadth:\"))\n",
        "  area=l*b\n",
        "else:\n",
        "  s=int(input(\"enter the side:\"))\n",
        "  area=s**2\n",
        "print('Area=',area)"
      ],
      "metadata": {
        "colab": {
          "base_uri": "https://localhost:8080/"
        },
        "id": "_Qeh1q_ntypz",
        "outputId": "08382d83-677f-4c20-e327-867cc2b9288b"
      },
      "execution_count": null,
      "outputs": [
        {
          "output_type": "stream",
          "name": "stdout",
          "text": [
            "to calculate the area to rectangle enter 1 and for square 0:1\n",
            "enter the lenghth:10\n",
            "enter the breadth:20\n",
            "Area= 200\n"
          ]
        }
      ]
    },
    {
      "cell_type": "markdown",
      "source": [
        "8. Write a program to Calculate Area of Scalene Triangle and Right-angle Triangle.\n"
      ],
      "metadata": {
        "id": "wHReW6GiwJbz"
      }
    },
    {
      "cell_type": "code",
      "source": [
        "a=int(input(\"enter the side 1:\"))\n",
        "b=int(input(\"enter the side 2:\"))\n",
        "c=int(input(\"enter the side 3:\"))\n",
        "s=(a+b+c)/2\n",
        "d=s*(s-a)*(s-b)*(s-c)\n",
        "area=d**(1/2)\n",
        "print(\"area of triangle\",area)"
      ],
      "metadata": {
        "colab": {
          "base_uri": "https://localhost:8080/"
        },
        "id": "iid2cKEmxB-z",
        "outputId": "78e9a276-129a-4426-c482-30fedf1f2827"
      },
      "execution_count": null,
      "outputs": [
        {
          "output_type": "stream",
          "name": "stdout",
          "text": [
            "enter the side 1:6\n",
            "enter the side 2:7\n",
            "enter the side 3:8\n",
            "area of triangle 20.33316256758894\n"
          ]
        }
      ]
    },
    {
      "cell_type": "markdown",
      "source": [
        "9. Write a program to find the volume and surface area of cube, cuboids and cylinder."
      ],
      "metadata": {
        "id": "um4qJorIylzi"
      }
    },
    {
      "cell_type": "code",
      "source": [
        "a=int(input(\"To calculate area and volume of cube enter 1 ,for cuboid enter 2 and for cylinder enter 3:\"))\n",
        "if(a==2):\n",
        "  l=int(input(\"enter the length:\"))\n",
        "  b=int(input(\"enter the breadth:\"))\n",
        "  h=int(input(\"enter the height:\"))\n",
        "  volume=l*b*h\n",
        "  area=2*(l*b+b*h+h*l)\n",
        "elif(a==1):\n",
        "  s=int(input(\"enter the side:\")) \n",
        "  volume=s**3\n",
        "  area=6*(s**2) \n",
        "elif(a==3):\n",
        "  r=int(input(\"enter the radius:\"))  \n",
        "  h=int(input(\"enter the height:\"))\n",
        "  volume=(3.14)*(r**2)*h\n",
        "  area=2*(3.14)*r*h + (3.14)*(r**2)\n",
        "print(\"area:\",area)\n",
        "print(\"volume:\",volume)"
      ],
      "metadata": {
        "colab": {
          "base_uri": "https://localhost:8080/"
        },
        "id": "iH8lDQ0DyqI6",
        "outputId": "ad7b2c42-0a89-4722-d772-8f174bcdd690"
      },
      "execution_count": null,
      "outputs": [
        {
          "output_type": "stream",
          "name": "stdout",
          "text": [
            "To calculate area and volume of cube enter 1 ,for cuboid enter 2 and for cylinder enter 3:1\n",
            "enter the side:8\n",
            "area: 384\n",
            "volume: 512\n"
          ]
        }
      ]
    },
    {
      "cell_type": "markdown",
      "source": [
        "10. Write a program to Calculate Volume and surface area of Cone, Sphere and Cylinder."
      ],
      "metadata": {
        "id": "S14ZqBh75CMB"
      }
    },
    {
      "cell_type": "code",
      "source": [
        "a=int(input(\"To calculate area and volume of cone enter 1 ,for sphere enter 2 and for cylinder enter 3:\"))\n",
        "if(a==1):\n",
        "  r=int(input(\"enter the radius:\"))\n",
        "  h=int(input(\"enter the height:\"))\n",
        "  l=int(input(\"enter the slant height:\"))\n",
        "  volume=(1/3)*(3.14)*(r**2)*h\n",
        "  area=(3.14)*(r)*(r+l)\n",
        "elif(a==2):\n",
        "  r=int(input(\"enter the radius:\")) \n",
        "  volume=(4/3)*(r**3)*(3.14)\n",
        "  area=4*(r**2)*(3.14)\n",
        "elif(a==3):\n",
        "  r=int(input(\"enter the radius:\"))  \n",
        "  h=int(input(\"enter the height:\"))\n",
        "  volume=(3.14)*(r**2)*h\n",
        "  area=2*(3.14)*r*h + (3.14)*(r**2)\n",
        "print(\"area:\",area)\n",
        "print(\"volume:\",volume)"
      ],
      "metadata": {
        "colab": {
          "base_uri": "https://localhost:8080/"
        },
        "id": "GsvIqNgw5Ko2",
        "outputId": "46b4a167-9451-4529-eb89-f3679013c92a"
      },
      "execution_count": null,
      "outputs": [
        {
          "output_type": "stream",
          "name": "stdout",
          "text": [
            "To calculate area and volume of cone enter 1 ,for sphere enter 2 and for cylinder enter 3:2\n",
            "enter the radius:9\n",
            "area: 1017.36\n",
            "volume: 3052.08\n"
          ]
        }
      ]
    },
    {
      "cell_type": "markdown",
      "source": [
        "11. Write a program to find the area of trapezium, rhombus and parallelogram.\n"
      ],
      "metadata": {
        "id": "nzHXQc-H6s7w"
      }
    },
    {
      "cell_type": "code",
      "source": [
        "a=int(input(\"To calculate area of trapezium enter 1 ,for rhombus enter 2 and for parallelogram enter 3:\"))\n",
        "if(a==1):\n",
        "  a=int(input(\"enter the base1:\"))\n",
        "  b=int(input(\"enter the base2:\"))\n",
        "  h=int(input(\"enter the height:\"))\n",
        "  area=((a+b)*h)/2\n",
        "elif(a==2):\n",
        "  p=int(input(\"enter the diagonal1:\"))\n",
        "  q=int(input(\"enter the diagonal2:\")) \n",
        "  area=(p*q)/2\n",
        "elif(a==3):\n",
        "  b=int(input(\"enter the base:\"))  \n",
        "  h=int(input(\"enter the height:\"))\n",
        "  area=b*h\n",
        "print(\"area:\",area)"
      ],
      "metadata": {
        "colab": {
          "base_uri": "https://localhost:8080/"
        },
        "id": "DKj63U9g62R4",
        "outputId": "697f2d10-8bf2-495f-a0d4-1edf28c77b16"
      },
      "execution_count": null,
      "outputs": [
        {
          "output_type": "stream",
          "name": "stdout",
          "text": [
            "To calculate area of trapezium enter 1 ,for rhombus enter 2 and for parallelogram enter 3:3\n",
            "enter the base:6\n",
            "enter the height:8\n",
            "area: 48\n"
          ]
        }
      ]
    },
    {
      "cell_type": "markdown",
      "source": [
        "12. Write a program to find the perimeter of a circle, rectangle and triangle."
      ],
      "metadata": {
        "id": "9_h8bf3oASo-"
      }
    },
    {
      "cell_type": "code",
      "source": [
        "a=int(input(\"To calculate perimeter of circle enter 1 ,for rectangle enter 2 and for triangle enter 3:\"))\n",
        "if(a==1):\n",
        "  r=int(input(\"enter the radius:\"))\n",
        "  p=2*(3.14)*r\n",
        "elif(a==2):\n",
        "  l=int(input(\"enter the length:\"))\n",
        "  b=int(input(\"enter the breadth:\")) \n",
        "  p=2*(l+b)\n",
        "elif(a==3):\n",
        "  s1=int(input(\"enter the side1:\"))  \n",
        "  s2=int(input(\"enter the side2:\"))\n",
        "  s3=int(input(\"enter the side3:\"))\n",
        "  p=s1+s2+s3\n",
        "print(\"perimeter:\",p)"
      ],
      "metadata": {
        "colab": {
          "base_uri": "https://localhost:8080/"
        },
        "id": "e2r-JKpLAWG_",
        "outputId": "c2bebfaf-72d0-4943-99d1-8c992684f0c8"
      },
      "execution_count": null,
      "outputs": [
        {
          "output_type": "stream",
          "name": "stdout",
          "text": [
            "To calculate perimeter of circle enter 1 ,for rectangle enter 2 and for triangle enter 3:1\n",
            "enter the radius:6\n",
            "perimeter: 37.68\n"
          ]
        }
      ]
    },
    {
      "cell_type": "markdown",
      "source": [
        "13. Write a program to Compute Simple Interest."
      ],
      "metadata": {
        "id": "Ak_kRXl_CXd_"
      }
    },
    {
      "cell_type": "code",
      "source": [
        "p=int(input(\"enter initial principal amount:\"))\n",
        "r=int(input(\"enter the rate:\"))\n",
        "n=int(input(\"enter the number of times interest applied per time period:\"))\n",
        "t=int(input(\"enter the time period:\"))\n",
        "a=p*((1+(r/n))**(n*t))\n",
        "ci=a-p\n",
        "print(\"compound intrest:\",ci)"
      ],
      "metadata": {
        "colab": {
          "base_uri": "https://localhost:8080/"
        },
        "id": "VH2C1ymCBw9J",
        "outputId": "ef161d0e-7f77-4826-e493-b1cf6db096e0"
      },
      "execution_count": null,
      "outputs": [
        {
          "output_type": "stream",
          "name": "stdout",
          "text": [
            "enter initial principal amount:10000\n",
            "enter the rate:3\n",
            "enter the number of times interest applied per time period:4\n",
            "enter the time period:2\n",
            "compound intrest: 869638.8244628906\n"
          ]
        }
      ]
    },
    {
      "cell_type": "markdown",
      "source": [
        "14. Write a program to Convert Fahrenheit temperature in to Celsius."
      ],
      "metadata": {
        "id": "2c2vfOHfEaWf"
      }
    },
    {
      "cell_type": "code",
      "source": [
        "f=int(input(\"enter the value:\"))\n",
        "c=(9*(f-32))/5\n",
        "print(\"Incelcius:\",c)\n"
      ],
      "metadata": {
        "id": "a1Vbusd_ElDX",
        "colab": {
          "base_uri": "https://localhost:8080/"
        },
        "outputId": "a8b54386-c856-4f29-e825-09a8b64d0abf"
      },
      "execution_count": 6,
      "outputs": [
        {
          "output_type": "stream",
          "name": "stdout",
          "text": [
            "enter the value:32\n",
            "Incelcius: 0.0\n"
          ]
        }
      ]
    },
    {
      "cell_type": "markdown",
      "source": [
        "15. Write a program to Find the Gravitational Force Acting Between Two Objects."
      ],
      "metadata": {
        "id": "o6cdd_kEVWVn"
      }
    },
    {
      "cell_type": "code",
      "source": [
        "m1=int(input(\"mass of object 1 in kg:\"))\n",
        "m2=int(input(\"mass of object 2 in kg:\"))\n",
        "r=int(input(\"distance between m1 and m2 in metre:\"))\n",
        "f=(m1*m2)/(r**2)\n",
        "print(\"gravitational force:\",f,\"N\")"
      ],
      "metadata": {
        "colab": {
          "base_uri": "https://localhost:8080/"
        },
        "id": "Kn5x3oRUVcA-",
        "outputId": "27067632-e51c-450b-b6c8-3bd48916d5ff"
      },
      "execution_count": 8,
      "outputs": [
        {
          "output_type": "stream",
          "name": "stdout",
          "text": [
            "mass of object 1 in kg:6\n",
            "mass of object 2 in kg:7\n",
            "distance between m1 and m2 in metre:9\n",
            "gravitational force: 0.5185185185185185 N\n"
          ]
        }
      ]
    },
    {
      "cell_type": "markdown",
      "source": [
        "16. Write a program to swap the values of two variables with and without using third variable."
      ],
      "metadata": {
        "id": "Hs8OuurBWTQd"
      }
    },
    {
      "cell_type": "code",
      "source": [
        "a=int(input(\"to swap value of two no. by using third value press 1 and without it press 2:\"))\n",
        "b=int(input(\"enter the first number:\"))\n",
        "c=int(input(\"enter the second number:\"))\n",
        "if(a==1):\n",
        "  d=b+c\n",
        "  b=d-b\n",
        "  c=d-c\n",
        "else:\n",
        "  b,c==c,b\n",
        "print(\"the first no=\",b)\n",
        "print(\"the second no=\",c)  "
      ],
      "metadata": {
        "colab": {
          "base_uri": "https://localhost:8080/"
        },
        "id": "L5TCljU0WWBN",
        "outputId": "353735a8-b41c-4642-a9ef-9fe5104fced1"
      },
      "execution_count": 9,
      "outputs": [
        {
          "output_type": "stream",
          "name": "stdout",
          "text": [
            "to swap value of two no. by using third value press 1 and without it press 2:1\n",
            "enter the first number:3\n",
            "enter the second number:2\n",
            "the first no= 2\n",
            "the second no= 3\n"
          ]
        }
      ]
    },
    {
      "cell_type": "markdown",
      "source": [
        "17. Write a program to perform arithmetic operations on a = 8, b = 3."
      ],
      "metadata": {
        "id": "t9SZET3sXnpG"
      }
    },
    {
      "cell_type": "code",
      "source": [
        "a=8\n",
        "b=3\n",
        "sum=a+b\n",
        "sub=a-b\n",
        "mup=a*b\n",
        "div=a/b\n",
        "print(\"sum=\",sum,\"sub=\",sub,\"mup=\",mup,\"div=\",div)"
      ],
      "metadata": {
        "colab": {
          "base_uri": "https://localhost:8080/"
        },
        "id": "6UOcmkZrXo6d",
        "outputId": "bd9343a2-2b99-46c7-9052-00fe80fb8a59"
      },
      "execution_count": 11,
      "outputs": [
        {
          "output_type": "stream",
          "name": "stdout",
          "text": [
            "sum= 11 sub= 5 mup= 24 div= 2.6666666666666665\n"
          ]
        }
      ]
    },
    {
      "cell_type": "markdown",
      "source": [
        "18. Write a program to apply relational operations on a=8, b=3.\n"
      ],
      "metadata": {
        "id": "4s7N9P_LYVl8"
      }
    },
    {
      "cell_type": "code",
      "source": [
        "a=8\n",
        "b=3\n",
        "y=bool(a>b)\n",
        "x=bool(a==b)\n",
        "z=bool(a<b)\n",
        "w=bool(a<=b)\n",
        "v=bool(a>=b)\n",
        "print(x,y,z,w,v)"
      ],
      "metadata": {
        "colab": {
          "base_uri": "https://localhost:8080/"
        },
        "id": "0El1G0txX-ZZ",
        "outputId": "b1569611-1f7f-4752-bead-22255fa32f6b"
      },
      "execution_count": 16,
      "outputs": [
        {
          "output_type": "stream",
          "name": "stdout",
          "text": [
            "False True False False True\n"
          ]
        }
      ]
    },
    {
      "cell_type": "markdown",
      "source": [
        "19. Write a program to apply assignment operations on a=8, b=3."
      ],
      "metadata": {
        "id": "8n150uxGaS5h"
      }
    },
    {
      "cell_type": "code",
      "source": [
        "a=8\n",
        "b=3\n",
        "a+=b\n",
        "print(a)\n",
        "a-=b\n",
        "print(a)\n",
        "a*=b\n",
        "print(a)\n",
        "a/=b\n",
        "print(a)"
      ],
      "metadata": {
        "colab": {
          "base_uri": "https://localhost:8080/"
        },
        "id": "9EAGJhDlaSGz",
        "outputId": "bf2716d7-8a45-40fe-e7ee-1845d6955895"
      },
      "execution_count": 17,
      "outputs": [
        {
          "output_type": "stream",
          "name": "stdout",
          "text": [
            "11\n",
            "8\n",
            "24\n",
            "8.0\n"
          ]
        }
      ]
    },
    {
      "cell_type": "markdown",
      "source": [
        "20. Write a program to apply logical operations on a=8, b=3."
      ],
      "metadata": {
        "id": "griHKH5saSWI"
      }
    },
    {
      "cell_type": "code",
      "source": [
        "a=8\n",
        "b=3\n",
        "f=bool(a>4 and b>4)\n",
        "g=bool(a>4 or b>4)\n",
        "print(f,g)"
      ],
      "metadata": {
        "colab": {
          "base_uri": "https://localhost:8080/"
        },
        "id": "le6JzKtxbJwT",
        "outputId": "46d256e0-cefd-47d3-969b-7916d1e65c5c"
      },
      "execution_count": 25,
      "outputs": [
        {
          "output_type": "stream",
          "name": "stdout",
          "text": [
            "False True\n"
          ]
        }
      ]
    },
    {
      "cell_type": "markdown",
      "source": [
        "21. Write a program to apply bitwise operations on a=8, b=3."
      ],
      "metadata": {
        "id": "ZyMxSmnceyID"
      }
    },
    {
      "cell_type": "code",
      "source": [
        "a=8\n",
        "b=3\n",
        "c=a>>2\n",
        "d=a<<4\n",
        "e=b>>2\n",
        "f=b<<4\n",
        "print(c,d,e,f)"
      ],
      "metadata": {
        "colab": {
          "base_uri": "https://localhost:8080/"
        },
        "id": "kxOpmHj7e2Ix",
        "outputId": "d26f2af6-3da6-4166-ef0d-b5f32b49ac6d"
      },
      "execution_count": 26,
      "outputs": [
        {
          "output_type": "stream",
          "name": "stdout",
          "text": [
            "2 128 0 48\n"
          ]
        }
      ]
    },
    {
      "cell_type": "markdown",
      "source": [
        "22. Write a program to apply identity operators."
      ],
      "metadata": {
        "id": "tmbt_nvsfOZq"
      }
    },
    {
      "cell_type": "code",
      "source": [
        "a=8\n",
        "b=3\n",
        "y=a is b\n",
        "print(y)"
      ],
      "metadata": {
        "colab": {
          "base_uri": "https://localhost:8080/"
        },
        "id": "n8PL98XgfRZZ",
        "outputId": "11035a73-ed51-48c5-a4da-84bf76c116a8"
      },
      "execution_count": 27,
      "outputs": [
        {
          "output_type": "stream",
          "name": "stdout",
          "text": [
            "False\n"
          ]
        }
      ]
    },
    {
      "cell_type": "markdown",
      "source": [
        "23. Write a program to Swap the Contents of two Numbers using Bitwise XOR Operation"
      ],
      "metadata": {
        "id": "_Pr2TalGfzxJ"
      }
    },
    {
      "cell_type": "code",
      "source": [],
      "metadata": {
        "id": "3I7CQavNf1cC"
      },
      "execution_count": 27,
      "outputs": []
    },
    {
      "cell_type": "markdown",
      "source": [
        "24. Write a program to Multiply given Number by 4 using Bitwise Operators."
      ],
      "metadata": {
        "id": "uZWW45CWgoFR"
      }
    },
    {
      "cell_type": "code",
      "source": [],
      "metadata": {
        "id": "M3dCEa5Rg8Ia"
      },
      "execution_count": null,
      "outputs": []
    },
    {
      "cell_type": "markdown",
      "source": [
        "25. Python Program to Find the Square Root."
      ],
      "metadata": {
        "id": "A0uZO_QRg_cC"
      }
    },
    {
      "cell_type": "code",
      "source": [
        "a=int(input(\"enter a number\"))\n",
        "b=a**(1/2)\n",
        "print(\"square root=\",b)"
      ],
      "metadata": {
        "colab": {
          "base_uri": "https://localhost:8080/"
        },
        "id": "W92FF1LkhBKo",
        "outputId": "1bfac8b1-206f-436f-8030-e30a977dcc5c"
      },
      "execution_count": 29,
      "outputs": [
        {
          "output_type": "stream",
          "name": "stdout",
          "text": [
            "enter a number4\n",
            "square root= 2.0\n"
          ]
        }
      ]
    },
    {
      "cell_type": "markdown",
      "source": [
        "26. Python program to convert all units of time into seconds."
      ],
      "metadata": {
        "id": "MwrrGFqPhuZa"
      }
    },
    {
      "cell_type": "code",
      "source": [
        "h=int(input(\"enter the hours:\"))\n",
        "m=int(input(\"enter the minutes:\"))\n",
        "s=int(input(\"enter the seconds:\"))\n",
        "S=(h*60*60)+(m*60)+s\n",
        "print(\"Seconds=\",S)"
      ],
      "metadata": {
        "colab": {
          "base_uri": "https://localhost:8080/"
        },
        "id": "LiDRdgu0hgsv",
        "outputId": "b77557cb-cb3c-43c9-f9aa-bb8fe05aa887"
      },
      "execution_count": 30,
      "outputs": [
        {
          "output_type": "stream",
          "name": "stdout",
          "text": [
            "enter the hours:5\n",
            "enter the minutes:12\n",
            "enter the seconds:6\n",
            "Seconds= 18726\n"
          ]
        }
      ]
    },
    {
      "cell_type": "markdown",
      "source": [
        "27. Python program to calculate midpoints of a line-segment."
      ],
      "metadata": {
        "id": "nB_Oy7GqicY5"
      }
    },
    {
      "cell_type": "code",
      "source": [
        "l=int(input('enter the lenth of line segment:'))\n",
        "mid=l//2\n",
        "print(mid)"
      ],
      "metadata": {
        "colab": {
          "base_uri": "https://localhost:8080/"
        },
        "id": "zB6dbpTGigPx",
        "outputId": "d05a1fe6-7277-475a-e184-68099f65c00a"
      },
      "execution_count": 35,
      "outputs": [
        {
          "output_type": "stream",
          "name": "stdout",
          "text": [
            "enter the lenth of line segment:8\n",
            "4\n"
          ]
        }
      ]
    },
    {
      "cell_type": "markdown",
      "source": [
        "28. Python program to display your details like name, age, address in three different lines."
      ],
      "metadata": {
        "id": "oRKMBXIzi5Dy"
      }
    },
    {
      "cell_type": "code",
      "source": [
        "a=input(\"enter name:\")\n",
        "b=int(input(\"enter the age:\"))\n",
        "c=input(\"enter the address\")\n",
        "print(\"name:\",a)\n",
        "print(\"age:\",b)\n",
        "print(\"address:\",c)"
      ],
      "metadata": {
        "colab": {
          "base_uri": "https://localhost:8080/"
        },
        "id": "NRxSW0g1io3u",
        "outputId": "35b7949a-b176-46c3-e1c9-44eefc17753f"
      },
      "execution_count": 36,
      "outputs": [
        {
          "output_type": "stream",
          "name": "stdout",
          "text": [
            "enter name:naman\n",
            "enter the age:36\n",
            "enter the addressgaziabad 323\n",
            "name: naman\n",
            "age: 36\n",
            "address: gaziabad 323\n"
          ]
        }
      ]
    },
    {
      "cell_type": "markdown",
      "source": [
        "29. Python program to compute the distance between the points (x1, y1) and (x2, y2)."
      ],
      "metadata": {
        "id": "6BNST4X9lZhh"
      }
    },
    {
      "cell_type": "code",
      "source": [
        "x1=int(input(\"enter the value of x1:\"))\n",
        "y1=int(input(\"enter the value of x2:\"))\n",
        "x2=int(input(\"enter the value of x2:\"))\n",
        "y2=int(input(\"enter the value of y2:\"))\n",
        "e=(x1-x2)**2+(y1-y2)**2\n",
        "d=e**(1/2)\n",
        "print(\"distance between points=\",d)"
      ],
      "metadata": {
        "colab": {
          "base_uri": "https://localhost:8080/"
        },
        "id": "--Bd1Fj7lcFC",
        "outputId": "dfa6cde1-1c7d-43c5-f7ae-357d3659973c"
      },
      "execution_count": 37,
      "outputs": [
        {
          "output_type": "stream",
          "name": "stdout",
          "text": [
            "enter the value of x1:3\n",
            "enter the value of x2:5\n",
            "enter the value of x2:6\n",
            "enter the value of y2:7\n",
            "distance between points= 3.605551275463989\n"
          ]
        }
      ]
    },
    {
      "cell_type": "markdown",
      "source": [
        "30. WAP to find the absolute value of the given number.\n"
      ],
      "metadata": {
        "id": "cf4orvTjmbRf"
      }
    },
    {
      "cell_type": "code",
      "source": [],
      "metadata": {
        "id": "BibEeu_SnJcQ"
      },
      "execution_count": null,
      "outputs": []
    }
  ]
}